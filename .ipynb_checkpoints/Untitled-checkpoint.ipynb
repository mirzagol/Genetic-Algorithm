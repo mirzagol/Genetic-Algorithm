{
 "cells": [
  {
   "cell_type": "code",
   "execution_count": 148,
   "id": "e5d3887f",
   "metadata": {},
   "outputs": [],
   "source": [
    "import random\n",
    "import operator\n",
    "import copy"
   ]
  },
  {
   "cell_type": "code",
   "execution_count": 149,
   "id": "6ee340d0",
   "metadata": {},
   "outputs": [],
   "source": [
    "class FunctionTree:\n",
    "    def __init__(self, root=None):\n",
    "        self.root = root\n",
    "\n",
    "    def evaluate(self, x):\n",
    "        # Create a deep copy of the tree for evaluation\n",
    "        eval_tree = copy.deepcopy(self.root)\n",
    "        # Replace 'x' with the numerical value in the copy\n",
    "        self.replace_x(eval_tree, x)\n",
    "        # Evaluate the copied tree\n",
    "        return eval_tree.evaluate()\n",
    "\n",
    "    def replace_x(self, node, x):\n",
    "        # Only replace 'x' if the node value is 'x'\n",
    "        if node.value == 'x':\n",
    "            node.value = x\n",
    "        # Recursively replace 'x' in the left and right subtrees\n",
    "        if node.left is not None:\n",
    "            self.replace_x(node.left, x)\n",
    "        if node.right is not None:\n",
    "            self.replace_x(node.right, x)\n",
    "\n",
    "    def toStr(self):\n",
    "        return self.toStr_helper(self.root)\n",
    "\n",
    "    def toStr_helper(self, node):\n",
    "        if node is None:\n",
    "            return \"\"\n",
    "        if node.left is None and node.right is None:\n",
    "            return str(node.value)\n",
    "        left_str = self.toStr_helper(node.left)\n",
    "        right_str = self.toStr_helper(node.right)\n",
    "        return f\"({left_str} {node.value} {right_str})\"\n"
   ]
  },
  {
   "cell_type": "code",
   "execution_count": 186,
   "id": "4997c166",
   "metadata": {},
   "outputs": [],
   "source": [
    "# Genetic algorithm functions\n",
    "def generate_random_tree(depth=3):\n",
    "    # Generate a random tree with the specified depth\n",
    "    if depth == 0:\n",
    "        if random.random() > 0.5:\n",
    "            return Node(random.randint(0, 9))\n",
    "        else:\n",
    "            return Node('x')\n",
    "    else:\n",
    "        op = random.choice(['+', '-', '*', '/'])\n",
    "        return Node(op, generate_random_tree(depth-1), generate_random_tree(depth-1))\n",
    "\n",
    "def calculate_fitness(tree, data):\n",
    "    error = 0\n",
    "    for x, y in data:\n",
    "        try:\n",
    "            prediction = tree.evaluate(x)\n",
    "            error += (prediction - y) ** 2\n",
    "        except ZeroDivisionError:\n",
    "            # Assign a large negative penalty for division by zero\n",
    "            error += 1e9  \n",
    "    return -error\n",
    "\n",
    "\n",
    "def crossover(tree1, tree2):\n",
    "    # Swap subtrees between two trees at a random node\n",
    "    if random.random() > 0.5:\n",
    "        tree1.root, tree2.root = tree2.root, tree1.root\n",
    "    else:\n",
    "        if tree1.root.left and tree2.root.left:\n",
    "            tree1.root.left, tree2.root.left = tree2.root.left, tree1.root.left\n",
    "        if tree1.root.right and tree2.root.right:\n",
    "            tree1.root.right, tree2.root.right = tree2.root.right, tree1.root.right\n",
    "\n",
    "def mutate(tree):\n",
    "    # Randomly change a node in the tree\n",
    "    node = random.choice([tree.root, tree.root.left, tree.root.right])\n",
    "    if isinstance(node.value, str):\n",
    "        node.value = random.choice(['+', '-', '*', '/'])\n",
    "    else:\n",
    "        node.value = random.randint(0, 9)"
   ]
  },
  {
   "cell_type": "code",
   "execution_count": 177,
   "id": "c8c31b62",
   "metadata": {},
   "outputs": [],
   "source": [
    "def blackbox_function(x):\n",
    "    return 2*x+3"
   ]
  },
  {
   "cell_type": "code",
   "execution_count": 178,
   "id": "6b6e3f69",
   "metadata": {
    "scrolled": true
   },
   "outputs": [
    {
     "name": "stdout",
     "output_type": "stream",
     "text": [
      "The best function found is: (((x * 5) + (6 - 7)) * ((x * x) * (0 / x)))\n"
     ]
    }
   ],
   "source": [
    "\n",
    "# Example usage\n",
    "if __name__ == '__main__':\n",
    "    # Generate a bunch of random functions (trees)\n",
    "    population = [FunctionTree(generate_random_tree()) for _ in range(30)]\n",
    "\n",
    "    # Assume we have some data generated from the blackbox function\n",
    "    data = [(x, blackbox_function(x)) for x in range(-10, 11)]\n",
    "\n",
    "    # Run the genetic algorithm\n",
    "    generations = 1000\n",
    "    for generation in range(generations):\n",
    "        # Calculate fitness for each tree\n",
    "        fitness_scores = [calculate_fitness(tree, data) for tree in population]\n",
    "\n",
    "        # Select the best trees and perform crossover and mutation\n",
    "        sorted_population = [tree for score, tree in sorted(zip(fitness_scores, population), key=lambda x: x[0])]\n",
    "        for i in range(10, 20):\n",
    "            crossover(sorted_population[i], sorted_population[random.randint(0, 9)])\n",
    "            mutate(sorted_population[i])\n",
    "\n",
    "        # The new population is the mutated and crossed-over trees\n",
    "        population = sorted_population\n",
    "\n",
    "    # The best tree is the first one after sorting by fitness\n",
    "    best_tree = population[-1]\n",
    "    print(f'The best function found is: {best_tree.toStr()}')\n"
   ]
  },
  {
   "cell_type": "code",
   "execution_count": 179,
   "id": "9a198848",
   "metadata": {},
   "outputs": [
    {
     "data": {
      "text/plain": [
       "[(-10, -17),\n",
       " (-9, -15),\n",
       " (-8, -13),\n",
       " (-7, -11),\n",
       " (-6, -9),\n",
       " (-5, -7),\n",
       " (-4, -5),\n",
       " (-3, -3),\n",
       " (-2, -1),\n",
       " (-1, 1),\n",
       " (0, 3),\n",
       " (1, 5),\n",
       " (2, 7),\n",
       " (3, 9),\n",
       " (4, 11),\n",
       " (5, 13),\n",
       " (6, 15),\n",
       " (7, 17),\n",
       " (8, 19),\n",
       " (9, 21),\n",
       " (10, 23)]"
      ]
     },
     "execution_count": 179,
     "metadata": {},
     "output_type": "execute_result"
    }
   ],
   "source": [
    "data"
   ]
  },
  {
   "cell_type": "code",
   "execution_count": 187,
   "id": "ffb29773",
   "metadata": {},
   "outputs": [
    {
     "name": "stdout",
     "output_type": "stream",
     "text": [
      "(((x * 5) + (6 - 7)) * ((x * x) * (0 / x)))    ,-1000003260.0\n",
      "(((6 + 1) - (x * x)) * ((x / 5) + (8 * 8)))    ,-167997970.43999997\n",
      "(((0 / 0) - (x + 0)) / ((x - x) * (x / 4)))    ,-21000000000.0\n",
      "(((8 * 0) / (4 * 1)) - ((7 / x) - (5 - x)))    ,-1000008001.8772377\n",
      "(((6 / 9) + (8 - 3)) + ((x / x) / (x * x)))    ,-1000003240.9171513\n",
      "(((x + 2) + (7 * 3)) + ((x * 8) - (1 - x)))    ,-56861\n",
      "(((2 - 2) / (x / x)) + ((x + x) / (x - 6)))    ,-2000002800.9333467\n",
      "(((6 - x) + (x + 4)) + ((x * x) + (2 * x)))    ,-62475\n",
      "(((x + 7) * (7 / x)) / ((x + x) / (x - 0)))    ,-1000002985.4961612\n",
      "(((x / x) * (3 / 0)) - ((x + 2) * (2 / 7)))    ,-21000000000.0\n",
      "(((9 / x) / (2 - x)) + ((4 * x) + (1 / x)))    ,-2000003479.012703\n",
      "(((4 + 1) + (8 * x)) + ((x / x) / (x + x)))    ,-1000027920.7748837\n",
      "(((4 - x) + (x / x)) * ((x - x) * (6 * x)))    ,-1000003260.0\n",
      "(((x / x) + (6 / x)) * ((x + 7) / (x * 9)))    ,-1000003101.3810012\n",
      "(((9 + 1) * (x * x)) - ((9 + 8) / (x / 2)))    ,-1005029963.0629945\n",
      "(((x / 2) * (x / x)) / ((x + 7) / (x * x)))    ,-2000155791.955224\n",
      "(((x - 9) - (2 - 8)) / ((x / x) * (x * 1)))    ,-1000003427.8958192\n",
      "(((x - x) + (6 * 4)) / ((2 - 9) - (6 / x)))    ,-1000004319.3517292\n",
      "(((1 - x) - (6 - 5)) + ((x + 6) - (x * x)))    ,-49315\n",
      "(((1 / 0) / (5 * 2)) / ((x - 3) * (x * 0)))    ,-21000000000.0\n",
      "(((4 - x) + (1 + 7)) - ((2 / 5) - (x + x)))    ,-2323.1600000000003\n",
      "(((8 - x) * (x / 3)) * ((3 + 4) / (8 * 3)))    ,-2267.3167438271603\n",
      "(((x + 3) - (5 - 1)) - ((6 - x) + (2 * 0)))    ,-2100\n",
      "(((7 - 8) - (x - 1)) + ((x + x) + (x - 7)))    ,-2100\n",
      "(((x * 3) + (8 * 6)) / ((9 - x) + (6 - 0)))    ,-1621.4332594210846\n",
      "(((5 - x) - (x * 1)) + ((x * 6) - (8 + x)))    ,-1526\n",
      "(((x - x) + (x + x)) + ((0 + 0) - (6 - 2)))    ,-1029\n",
      "(((x / 5) - (7 / 5)) + ((3 * x) - (x + x)))    ,-899.3599999999999\n",
      "(((2 - 4) + (1 - x)) + ((6 * x) - (x * 3)))    ,-336\n",
      "(((x / 3) - (2 * x)) + ((x * 6) - (x + x)))    ,-274.55555555555543\n"
     ]
    }
   ],
   "source": [
    "sorted_population = [tree for score, tree in sorted(zip(fitness_scores, population), key=lambda x: x[0])]\n",
    "\n",
    "for p in sorted_population:\n",
    "    print(f'{p.toStr()}    ,{calculate_fitness(p, data)}')"
   ]
  },
  {
   "cell_type": "code",
   "execution_count": null,
   "id": "1cb1b0b5",
   "metadata": {},
   "outputs": [],
   "source": []
  }
 ],
 "metadata": {
  "kernelspec": {
   "display_name": "Python 3 (ipykernel)",
   "language": "python",
   "name": "python3"
  },
  "language_info": {
   "codemirror_mode": {
    "name": "ipython",
    "version": 3
   },
   "file_extension": ".py",
   "mimetype": "text/x-python",
   "name": "python",
   "nbconvert_exporter": "python",
   "pygments_lexer": "ipython3",
   "version": "3.10.5"
  }
 },
 "nbformat": 4,
 "nbformat_minor": 5
}
